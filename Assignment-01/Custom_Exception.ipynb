{
 "cells": [
  {
   "cell_type": "code",
   "execution_count": 1,
   "id": "d242e893",
   "metadata": {},
   "outputs": [],
   "source": [
    "# Custom error creation\n",
    "# Checking for verified email domains only\n",
    "\n",
    "class UnverifiedMail(Exception):\n",
    "    pass\n",
    "\n",
    "def VerifyMail(id):\n",
    "    verify=['@gmail.com', '@youtube.com', '@github.com', '@linkedin.com']\n",
    "    #if every value is false\n",
    "    if not any(id.endswith(email) for email in verify):\n",
    "        raise UnverifiedMail(f\"Invalid mail domain. Allowed domains are {(',').join(verify)} only.\")\n",
    "    else:\n",
    "        print(\"Your domain is verified!\")\n",
    "\n"
   ]
  },
  {
   "cell_type": "code",
   "execution_count": 4,
   "id": "7c343acd",
   "metadata": {},
   "outputs": [
    {
     "name": "stdout",
     "output_type": "stream",
     "text": [
      "Limited domain support. Kindly verify your email domain to continue.\n",
      "Your domain is verified!\n",
      "We appreciate your visit.\n"
     ]
    }
   ],
   "source": [
    "# Try verifying emails to see if the custom exception works as expected\n",
    "\n",
    "print(\"Limited domain support. Kindly verify your email domain to continue.\")\n",
    "try:\n",
    "    mail_id = input(\"Please Enter your email id:-\")\n",
    "    VerifyMail(mail_id)\n",
    "except UnverifiedMail as exception:\n",
    "    print(exception)\n",
    "finally:\n",
    "    print(\"We appreciate your visit.\")\n",
    "\n",
    "    "
   ]
  }
 ],
 "metadata": {
  "kernelspec": {
   "display_name": "Python 3",
   "language": "python",
   "name": "python3"
  },
  "language_info": {
   "codemirror_mode": {
    "name": "ipython",
    "version": 3
   },
   "file_extension": ".py",
   "mimetype": "text/x-python",
   "name": "python",
   "nbconvert_exporter": "python",
   "pygments_lexer": "ipython3",
   "version": "3.13.4"
  }
 },
 "nbformat": 4,
 "nbformat_minor": 5
}
