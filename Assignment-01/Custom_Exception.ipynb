{
 "cells": [
  {
   "cell_type": "code",
   "execution_count": 12,
   "id": "1f0006ff",
   "metadata": {},
   "outputs": [],
   "source": [
    "# Negative Exponent Exception\n",
    "class NegativeExponentException(Exception):\n",
    "    #raised in case of negative exponent\n",
    "\n",
    "    def __init__(self, exponent, message=None):\n",
    "        if message is None:\n",
    "            message= f\"Negative exponent encountered: {exponent}.\\nOnly Positive exponents are allowed.\"\n",
    "        self.exponent=exponent\n",
    "        self.message=message\n",
    "        super().__init__(self.message)\n",
    "\n"
   ]
  },
  {
   "cell_type": "code",
   "execution_count": 14,
   "id": "8be686c1",
   "metadata": {},
   "outputs": [
    {
     "name": "stdout",
     "output_type": "stream",
     "text": [
      "Oops! Negative exponent encountered: -9.\n",
      "Only Positive exponents are allowed.\n"
     ]
    }
   ],
   "source": [
    "def power(base,exp):\n",
    "    if exp<0:\n",
    "        raise NegativeExponentException(exp)\n",
    "    return pow(base, exp)\n",
    "\n",
    "try:\n",
    "    base=int(input(\"Enter number\"))\n",
    "    exp=int(input(\"Enter exponent\"))\n",
    "    res=power(base, exp)\n",
    "    print(\"Result is:\", res)\n",
    "except NegativeExponentException as e:\n",
    "    print(f\"Oops! {e}\")\n",
    "except ValueError:\n",
    "    print(\"Invalid Input. Please enter integers only.\")"
   ]
  }
 ],
 "metadata": {
  "kernelspec": {
   "display_name": "Python 3",
   "language": "python",
   "name": "python3"
  },
  "language_info": {
   "codemirror_mode": {
    "name": "ipython",
    "version": 3
   },
   "file_extension": ".py",
   "mimetype": "text/x-python",
   "name": "python",
   "nbconvert_exporter": "python",
   "pygments_lexer": "ipython3",
   "version": "3.13.4"
  }
 },
 "nbformat": 4,
 "nbformat_minor": 5
}
