{
 "cells": [
  {
   "cell_type": "code",
   "execution_count": 14,
   "id": "907a6814",
   "metadata": {},
   "outputs": [
    {
     "name": "stdout",
     "output_type": "stream",
     "text": [
      "Data written to city_temp.csv successfully.\n",
      "Data read from city_temp.csv successfully.\n",
      "[['City', 'Temperature (C)', 'Month'], ['Delhi', '41.5', 'May'], ['Mumbai', '25', 'June'], ['Jaipur', '40.7', 'April'], ['Bangalore', '26.4', 'July'], ['Chennai', '31.2', 'May']]\n"
     ]
    }
   ],
   "source": [
    "import csv\n",
    "\n",
    "#create a 2darray of data( such as- Average Temperature of different cities in differnt months)\n",
    "data=[[\"City\", \"Temperature (C)\", \"Month\"],\n",
    "      [\"Delhi\", \"41.5\", \"May\"],\n",
    "      [\"Mumbai\", \"25\", \"June\"],\n",
    "      [\"Jaipur\", \"40.7\", \"April\"],\n",
    "      [\"Bangalore\", \"26.4\", \"July\"],\n",
    "      [\"Chennai\", \"31.2\", \"May\"]]\n",
    "data\n",
    "\n",
    "#writing data in csv file\n",
    "def write_to_csv(filename, data):\n",
    "    with open(filename, 'w', newline='') as file:\n",
    "        writer = csv.writer(file)\n",
    "        writer.writerows(data)\n",
    "    print(f\"Data written to {filename} successfully.\")\n",
    "\n",
    "#Reading from CSV fie\n",
    "def read_from_csv(filename):\n",
    "    with open(filename, 'r',) as file:\n",
    "        reader = csv.reader(file)\n",
    "        data=list(reader)\n",
    "        print(f\"Data read from {filename} successfully.\")\n",
    "    return data\n",
    "    \n",
    "\n",
    "#Usage\n",
    "filename=\"city_temp.csv\"\n",
    "write_to_csv(filename, data)\n",
    "read_data=read_from_csv(filename)\n",
    "print(read_data)\n",
    "\n",
    "\n"
   ]
  },
  {
   "cell_type": "code",
   "execution_count": null,
   "id": "742ce13e",
   "metadata": {},
   "outputs": [],
   "source": []
  }
 ],
 "metadata": {
  "kernelspec": {
   "display_name": "Python 3",
   "language": "python",
   "name": "python3"
  },
  "language_info": {
   "codemirror_mode": {
    "name": "ipython",
    "version": 3
   },
   "file_extension": ".py",
   "mimetype": "text/x-python",
   "name": "python",
   "nbconvert_exporter": "python",
   "pygments_lexer": "ipython3",
   "version": "3.13.4"
  }
 },
 "nbformat": 4,
 "nbformat_minor": 5
}
