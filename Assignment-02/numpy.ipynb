{
 "cells": [
  {
   "cell_type": "code",
   "execution_count": 27,
   "id": "ead2770d",
   "metadata": {},
   "outputs": [],
   "source": [
    "import numpy as np\n",
    "import time\n"
   ]
  },
  {
   "cell_type": "code",
   "execution_count": null,
   "id": "e05d7d6f",
   "metadata": {},
   "outputs": [
    {
     "name": "stdout",
     "output_type": "stream",
     "text": [
      "1d array:- [ 1  2  3  4  5  6  7  8  9 10]\n",
      "Shape-  (10,)\n",
      "Size-  10\n",
      "Datatype-  int64\n",
      "\n",
      "2d array:- [[1 2 3]\n",
      " [4 5 6]\n",
      " [7 8 9]]\n",
      "Shape-  (3, 3)\n",
      "Size-  9\n",
      "Datatype-  int64\n",
      "\n",
      "3d array:- [[[0.38939194 0.27193696 0.90901027]\n",
      "  [0.64179353 0.97116316 0.25337648]\n",
      "  [0.73993835 0.56148361 0.79818336]\n",
      "  [0.05223986 0.96629241 0.71400851]\n",
      "  [0.68385983 0.46299727 0.8448023 ]]\n",
      "\n",
      " [[0.80648673 0.0463565  0.98922686]\n",
      "  [0.87443351 0.99601192 0.58977052]\n",
      "  [0.86811881 0.63330896 0.04753257]\n",
      "  [0.48262004 0.15764886 0.75715211]\n",
      "  [0.79129357 0.51134256 0.40766274]]\n",
      "\n",
      " [[0.06490224 0.05213293 0.42535699]\n",
      "  [0.27088562 0.65032642 0.89082361]\n",
      "  [0.62263581 0.39148682 0.84803887]\n",
      "  [0.12064589 0.17720037 0.2579105 ]\n",
      "  [0.55492489 0.96526367 0.78120265]]]\n",
      "Shape-  (3, 5, 3)\n",
      "Size-  45\n",
      "Datatype-  float64\n"
     ]
    }
   ],
   "source": [
    "#TASK-1  \n",
    "# 1.Create a 1D NumPy array of 10 integers ranging from 1 to 10.\n",
    "\n",
    "n1=np.arange(1,11)\n",
    "\n",
    "# Create a 2D NumPy array of shape (3, 3) with integers from 1 to 9.\n",
    "n2=np.arange(1,10).reshape(3,3)\n",
    "\n",
    "# Create a 3D NumPy array with random floating-point numbers of shape (3, 5, 3). \n",
    "n3=np.random.rand(3,5,3)\n",
    "\n",
    "# 2. Display the shape, size, and datatype of each array.\n",
    "print(\"1d array:-\", n1)\n",
    "print(\"Shape- \", n1.shape)\n",
    "print(\"Size- \",n1.size)\n",
    "print(\"Datatype- \",n1.dtype)\n",
    "\n",
    "print(\"\\n2d array:-\", n2)\n",
    "print(\"Shape- \", n2.shape)\n",
    "print(\"Size- \",n2.size)\n",
    "print(\"Datatype- \",n2.dtype)\n",
    "\n",
    "print(\"\\n3d array:-\", n3)\n",
    "print(\"Shape- \", n3.shape)\n",
    "print(\"Size- \",n3.size)\n",
    "print(\"Datatype- \",n3.dtype)\n",
    "\n"
   ]
  },
  {
   "cell_type": "code",
   "execution_count": 18,
   "id": "414d6af3",
   "metadata": {},
   "outputs": [
    {
     "name": "stdout",
     "output_type": "stream",
     "text": [
      "First 3 elements:-  [10 20 30]\n",
      "\n",
      "Every Alternative element:- [10 30 50 70 90]\n",
      "\n",
      "Reversed array:- [90 80 70 60 50 40 30 20 10]\n"
     ]
    }
   ],
   "source": [
    "#TASK-2\n",
    "data = [10, 20, 30, 40, 50, 60, 70, 80, 90] \n",
    "n1=np.array(data)\n",
    "n1\n",
    "\n",
    "#  displaying the results\n",
    "print(\"First 3 elements:- \", n1[:3])\n",
    "print(\"\\nEvery Alternative element:-\", n1[::2])\n",
    "print(\"\\nReversed array:-\", n1[::-1])"
   ]
  },
  {
   "cell_type": "code",
   "execution_count": 7,
   "id": "2668c34d",
   "metadata": {},
   "outputs": [
    {
     "name": "stdout",
     "output_type": "stream",
     "text": [
      "Array A:- [15 13 15 14  9]\n",
      "Array B:- [ 4  7 10  8 19]\n",
      "Addition:- [19 20 25 22 28]\n",
      "Subtraction:- [ 11   6   5   6 -10]\n",
      "Mutiplication:- [ 60  91 150 112 171]\n",
      "Division:- [3.75       1.85714286 1.5        1.75       0.47368421]\n",
      "Dot Product of A&B:- 584\n",
      "Mean of A:- 13.2\n",
      "Median of A:- 14.0\n",
      "Standard Deviation of A:- 2.227105745132009\n",
      "Variance of A:- 4.96\n",
      "Maximum of B:- 19 at index 4\n",
      "Minimum of B:- 4 at index 0\n"
     ]
    }
   ],
   "source": [
    "#TASK-3\n",
    "A=np.random.randint(1,21, size=5)\n",
    "B=np.random.randint(1,21, size=5)\n",
    "print(\"Array A:-\", A)\n",
    "print(\"Array B:-\",B)\n",
    "\n",
    "#  Add, subtract, multiply, and divide the two arrays elementwise. \n",
    "print(\"Addition:-\", A+B)\n",
    "print(\"Subtraction:-\", A-B)\n",
    "print(\"Mutiplication:-\", A*B)\n",
    "print(\"Division:-\", A/B)\n",
    "\n",
    "#Compute the dot product of the arrays. \n",
    "print(\"Dot Product of A&B:-\", np.dot(A,B))\n",
    "\n",
    "# Find the mean, median, standard deviation, and variance of array A. \n",
    "print(\"Mean of A:-\", np.mean(A))\n",
    "print(\"Median of A:-\", np.median(A))\n",
    "print(\"Standard Deviation of A:-\", np.std(A))\n",
    "print(\"Variance of A:-\", np.var(A))\n",
    "\n",
    "#Identify the maximum and minimum values in array B and their indices. \n",
    "print(\"Maximum of B:-\", np.max(B), \"at index\", np.argmax(B))\n",
    "print(\"Minimum of B:-\", np.min(B), \"at index\", np.argmin(B))\n"
   ]
  },
  {
   "cell_type": "code",
   "execution_count": 16,
   "id": "c6a787a9",
   "metadata": {},
   "outputs": [
    {
     "name": "stdout",
     "output_type": "stream",
     "text": [
      "arr_1d: [ 1  2  3  4  5  6  7  8  9 10 11 12]\n",
      "2d array:- [[ 1  2  3]\n",
      " [ 4  5  6]\n",
      " [ 7  8  9]\n",
      " [10 11 12]]\n",
      "3d array:- [[[ 1  2  3]\n",
      "  [ 4  5  6]]\n",
      "\n",
      " [[ 7  8  9]\n",
      "  [10 11 12]]]\n",
      "Transpose of 2d array:- [[ 1  4  7 10]\n",
      " [ 2  5  8 11]\n",
      " [ 3  6  9 12]]\n",
      "Size of Transposed array:- (3, 4)\n"
     ]
    }
   ],
   "source": [
    "#TASK-4\n",
    "arr_1d=np.arange(1,13)\n",
    "print(\"arr_1d:\", arr_1d)\n",
    "# Reshape the array into a 2D array of shape (4, 3).\n",
    "print(\"2d array:-\", arr_1d.reshape(4,3))\n",
    " \n",
    "# Reshape the array into a 3D array of shape (2, 2, 3). \n",
    "print(\"3d array:-\", arr_1d.reshape(2,2,3))\n",
    "\n",
    "# Transpose the reshaped 2D array and display its shape.\n",
    "print(\"Transpose of 2d array:-\", arr_1d.reshape(4,3).T)\n",
    "print(\"Size of Transposed array:-\", arr_1d.reshape(4,3).T.shape)"
   ]
  },
  {
   "cell_type": "code",
   "execution_count": 18,
   "id": "7e33818b",
   "metadata": {},
   "outputs": [
    {
     "name": "stdout",
     "output_type": "stream",
     "text": [
      "Original Array:-  [39 11 40 41 44 12 18 48 18 26 27 40 35 43 39]\n",
      "Elements greater than 25:- [39 40 41 44 48 26 27 40 35 43 39]\n",
      "Array after replacing elements:-  [39  0 40 41 44  0  0 48  0  0  0 40 35 43 39]\n",
      "Count of elements divisible by 5:-  3\n"
     ]
    }
   ],
   "source": [
    "#TASK-5\n",
    "arr=np.random.randint(10,50, size=15)\n",
    "print(\"Original Array:- \", arr)\n",
    "\n",
    "# Find all elements greater than 25. \n",
    "print(\"Elements greater than 25:-\", arr[arr>25])\n",
    "\n",
    "# Replace all elements less than 30 with 0. \n",
    "print(\"Array after replacing elements:- \", np.where(arr<30, 0, arr))\n",
    "\n",
    "# Count the number of elements divisible by 5.\n",
    "print(\"Count of elements divisible by 5:- \", np.sum(arr%5==0))"
   ]
  },
  {
   "cell_type": "code",
   "execution_count": 26,
   "id": "951f3c5e",
   "metadata": {},
   "outputs": [
    {
     "name": "stdout",
     "output_type": "stream",
     "text": [
      "Original array:- [0.         0.11111111 0.22222222 0.33333333 0.44444444 0.55555556\n",
      " 0.66666667 0.77777778 0.88888889 1.        ]\n",
      "\n",
      "Identity Matrix:- [[1. 0. 0. 0.]\n",
      " [0. 1. 0. 0.]\n",
      " [0. 0. 1. 0.]\n",
      " [0. 0. 0. 1.]]\n",
      "Random Array:- [35 75 36 64 76 38 10 48 78 32 27 59 12 93 50 64 38 88 10 43]\n",
      "Sorted Array:-  [10 10 12 27 32 35 36 38 38 43 48 50 59 64 64 75 76 78 88 93]\n",
      "5 largest elements:-  [75 76 78 88 93]\n"
     ]
    }
   ],
   "source": [
    "#TASK-6\n",
    "# Create an array of 10 equally spaced values between 0 and 1. \n",
    "eqsparr= np.linspace(0,1,10)\n",
    "print(\"Original array:-\", eqsparr)\n",
    "\n",
    "# Create an identity matrix of size 4x4. \n",
    "print(\"\\nIdentity Matrix:-\", np.eye(4))\n",
    "\n",
    "# Generate a 1D array of 20 random integers between 1 and 100, sort it, and find the 5 largest elements. \n",
    "array=np.random.randint(1,100, size=20)\n",
    "print(\"Random Array:-\", array)\n",
    "print(\"Sorted Array:- \", np.sort(array))\n",
    "print(\"5 largest elements:- \", np.sort(array)[-5:])\n"
   ]
  },
  {
   "cell_type": "code",
   "execution_count": 30,
   "id": "56ff206f",
   "metadata": {},
   "outputs": [
    {
     "name": "stdout",
     "output_type": "stream",
     "text": [
      "Matrix Multiplication:-\n",
      "  [[23.58850188 24.80450055 24.38316897 ... 23.44098524 23.192426\n",
      "  26.91394719]\n",
      " [26.30060171 24.44116638 25.48773284 ... 24.08147141 25.7289754\n",
      "  26.90076834]\n",
      " [22.92630747 21.4607922  23.95091679 ... 21.57841147 20.23765045\n",
      "  20.08445309]\n",
      " ...\n",
      " [24.18332912 27.16250129 24.82531764 ... 23.60439795 23.67186969\n",
      "  24.53118898]\n",
      " [24.13863396 26.29591929 25.59699759 ... 23.29376139 24.90488065\n",
      "  25.76645114]\n",
      " [26.18548662 23.86459219 25.56907387 ... 22.84887485 26.37972238\n",
      "  25.57904767]]\n",
      "\n",
      "Determinant of Matrix:-  1.5444109247271105e+49\n",
      "Inverse if determinant is not zero:-  [[-3.24703642  0.19055777  1.33009505 ...  0.69667012 -0.13571777\n",
      "  -2.5305206 ]\n",
      " [ 4.70582644 -0.52226715 -1.78046045 ... -0.77107988  0.18048565\n",
      "   3.01739883]\n",
      " [ 1.57906385 -0.10649318 -0.14785776 ... -0.05538126  0.33534073\n",
      "   0.08926909]\n",
      " ...\n",
      " [-1.88445412 -0.09235144  0.60682426 ...  0.37565074  0.09924024\n",
      "  -1.53177303]\n",
      " [ 4.83287826  0.114639   -1.89761356 ... -0.45999951 -0.22323787\n",
      "   3.25583157]\n",
      " [ 1.66914719 -0.10660237 -0.34708273 ... -0.46226619  0.35234544\n",
      "   0.34083875]]\n",
      "Inverse computed successfully.\n",
      "\n",
      "Total Time taken to complete given  operations:-  -0.15296196937561035\n"
     ]
    }
   ],
   "source": [
    "#TASK-7\n",
    "# Generates two large random arrays of size (100, 100). \n",
    "A=np.random.rand(100,100)\n",
    "B=np.random.rand(100, 100)\n",
    "\n",
    "#Time before performing operations\n",
    "start_time=time.time()\n",
    "\n",
    "# Performs matrix multiplication on the two arrays. \n",
    "mul_mat=np.matmul(A,B)\n",
    "print(\"Matrix Multiplication:-\\n \",mul_mat)\n",
    "\n",
    "# Finds the determinant and inverse of the resulting matrix (if possible).\n",
    "det=np.linalg.det(np.matmul(A,B))\n",
    "print(\"\\nDeterminant of Matrix:- \", det)\n",
    "\n",
    "if det!=0:\n",
    "    inv=np.linalg.inv(mul_mat)\n",
    "    print(\"Inverse if determinant is not zero:- \", inv)\n",
    "else:\n",
    "    print(\"Sorry!, Inverse doesn't exist\")\n",
    "print(\"Inverse computed successfully.\")\n",
    "\n",
    "# Measures the time taken to complete given operations.\n",
    "end_time=time.time()\n",
    "print(\"\\nTotal Time taken to complete given  operations:- \", start_time - end_time)\n",
    "\n"
   ]
  }
 ],
 "metadata": {
  "kernelspec": {
   "display_name": "Python 3",
   "language": "python",
   "name": "python3"
  },
  "language_info": {
   "codemirror_mode": {
    "name": "ipython",
    "version": 3
   },
   "file_extension": ".py",
   "mimetype": "text/x-python",
   "name": "python",
   "nbconvert_exporter": "python",
   "pygments_lexer": "ipython3",
   "version": "3.13.4"
  }
 },
 "nbformat": 4,
 "nbformat_minor": 5
}
